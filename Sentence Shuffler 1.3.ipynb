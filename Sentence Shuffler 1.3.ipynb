{
 "cells": [
  {
   "cell_type": "markdown",
   "metadata": {},
   "source": [
    "# Sentence Shuffler\n",
    "\n",
    "#### Hello and welcome to the sentence shuffler.\n",
    "#### Please upload the file to the notebook.\n",
    "#### Please also create an **output** file, so the shuffled sentences will be saved to.\n",
    "\n",
    "For example, if my essay is on a file named `MyEssay.docx`, then I will want to create another word file, named `shuffled.docx`. The program will split the first file into sentences, shuffle them, and return them, shuffeld, into the second file, for which in this example we called 'shuffled.docx'.\n",
    "\n",
    "*When typing in the file name, please include its extension; i.e. \"MyEssay.docx\"*\n",
    "\n",
    "To run the program, choose `run` from the top menu, and click `run all`."
   ]
  },
  {
   "cell_type": "code",
   "execution_count": 8,
   "outputs": [],
   "source": [
    "def import_input_docx_file(input_file=''):\n",
    "    \"\"\"\n",
    "    :param input_file: The file that enters into the function, used for READ-ONLY. Do not modify or .save this file for it will overwrite it.\n",
    "    :return: Import a docx file and converts its text into a list\n",
    "    \"\"\"\n",
    "    import docx\n",
    "    if input_file == '':\n",
    "        input_file = input('Enter the file name, with its extension: ')\n",
    "\n",
    "\n",
    "    f1 = docx.Document(input_file)\n",
    "    f1_text = \"\"\n",
    "    counter = 0 # Used for the loop, to mention a specific paragraph each time.\n",
    "    for para in f1.paragraphs: # This loop appends every paragraph from f1 into a list. Later, it will be splitted into sentences and scrambled.\n",
    "        read_file = f1.paragraphs[counter].text\n",
    "        f1_text += read_file + \" \"\n",
    "        counter += 1\n",
    "    # print(f1_text)\n",
    "\n",
    "    return f1_text\n",
    "\n",
    "\n",
    "def import_output_docx_file(output_file=''):\n",
    "    \"\"\"\n",
    "    :param output_file: The file that will be writen in.\n",
    "    :return:\n",
    "    \"\"\"\n",
    "    import docx\n",
    "    if output_file == '':\n",
    "        output_file = input('Enter the output file name, with its extension: ')\n",
    "\n",
    "    try: # This block of try is for an issue when a docx file is empty; this statement tries to open the document, and when fails OVERRIDES a new file with the same name.\n",
    "        f2 = docx.Document(output_file)\n",
    "    except:\n",
    "        f2 = docx.Document()\n",
    "        f2.save(output_file)\n",
    "        # print('Previous file was corrupted or didn\\'t exist - new file was created.')\n",
    "\n",
    "    # list_check = ['I love pyton', 'I enjoy it a lot', 'I\\'m trying this annoying module.']\n",
    "    # f2.add_paragraph(list_check)\n",
    "    # f2.add_run('Test; I do love Python')\n",
    "    return f2 # When called inside another function, remember to save the file.\n"
   ],
   "metadata": {
    "collapsed": false
   }
  },
  {
   "cell_type": "code",
   "execution_count": 16,
   "outputs": [
    {
     "name": "stdout",
     "output_type": "stream",
     "text": [
      "\n",
      " -----------------------------\n",
      " Success! \n",
      " Right click on the output file and download it to your computer. \n",
      " Thanks for using the Sentence Shuffler.\n"
     ]
    }
   ],
   "source": [
    "'''\n",
    "The program receives a document and cuts its sentences to pieces.\n",
    "'''\n",
    "\n",
    "\n",
    "def shuffler(input_file='',output_file=''):\n",
    "    \"\"\"\n",
    "    This function receives a file, currently a docx, using the import_docx_file function, and scrambles the sentences.\n",
    "    In the future, create a similar function that splits paragraphs, using the docx module.\n",
    "    :return:\n",
    "    \"\"\"\n",
    "    import random as rnd\n",
    "    # print('Hello and welcome to the sentence shuffler. \\n Please upload the file to the notebook. \\n')\n",
    "\n",
    "    if input_file == '':\n",
    "        input_file = input('Enter the file name, with its extension: ')\n",
    "\n",
    "    if output_file == '':\n",
    "        output_file = input('Enter the output file name, with its extension: ')\n",
    "\n",
    "    f1 = import_input_docx_file(input_file) # File name here is used for testing, remove later when implementing.\n",
    "    f2 = import_output_docx_file(output_file) # File name here is used for testing, remove later when implementing.\n",
    "\n",
    "    modified_sentences = [] # The sentences shuffled.\n",
    "    sentences = (f1.split(\". \")) # Splits wherever there's a dot == a new sentence.\n",
    "    num_of_shuffle = len(sentences)\n",
    "    for i in range(num_of_shuffle):\n",
    "        modified_sentences.append(None)\n",
    "\n",
    "\n",
    "    while None in modified_sentences:\n",
    "        for shuffle in sentences:\n",
    "            if shuffle not in modified_sentences:\n",
    "                modified_sentences[rnd.randint(0,num_of_shuffle-1)] = shuffle\n",
    "\n",
    "    shuffled_sentence = ' '.join([\"\\n\" + str(ltr) for ltr in modified_sentences]) # Converting the list into a string, adding a new line at every iteration.\n",
    "\n",
    "    f2.add_paragraph(shuffled_sentence)\n",
    "    f2.save(output_file)\n",
    "    print(\"\\n -----------------------------\\n Success! \\n Right click on the output file and download it to your computer. \\n Thanks for using the Sentence Shuffler.\")\n",
    "    # print(modified_sentences)\n",
    "\n",
    "shuffler()"
   ],
   "metadata": {
    "collapsed": false
   }
  }
 ],
 "metadata": {
  "kernelspec": {
   "display_name": "Python 3 (ipykernel)",
   "language": "python",
   "name": "python3"
  },
  "language_info": {
   "codemirror_mode": {
    "name": "ipython",
    "version": 3
   },
   "file_extension": ".py",
   "mimetype": "text/x-python",
   "name": "python",
   "nbconvert_exporter": "python",
   "pygments_lexer": "ipython3",
   "version": "3.9.10+"
  }
 },
 "nbformat": 4,
 "nbformat_minor": 2
}
