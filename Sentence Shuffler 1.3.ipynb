{
 "cells": [
  {
   "cell_type": "markdown",
   "metadata": {},
   "source": [
    "# Sentence Shuffler\n",
    "\n",
    "#### Hello and welcome to the sentence shuffler.\n",
    "#### Please upload the file to the notebook.\n",
    "#### Please also create an **output** file, so the shuffled sentences will be saved to.\n",
    "\n",
    "For example, if my essay is on a file named `MyEssay.docx`, then I will want to create another word file, named `shuffled.docx`. The program will split the first file into sentences, shuffle them, and return them, shuffeld, into the second file, for which in this example we called 'shuffled.docx'.\n",
    "\n",
    "*When typing in the file name, please include its extension; i.e. \"MyEssay.docx\"*\n",
    "\n",
    "To run the program, press `Ctrl + r`"
   ]
  },
  {
   "cell_type": "code",
   "execution_count": 1,
   "outputs": [],
   "source": [
    "def import_input_docx_file(input_file=''):\n",
    "    \"\"\"\n",
    "    :param input_file: The file that enters into the function, used for READ-ONLY. Do not modify or .save this file for it will overwrite it.\n",
    "    :return: Import a docx file and converts its text into a list\n",
    "    \"\"\"\n",
    "    import docx\n",
    "    if input_file == '':\n",
    "        input_file = input('Enter the file name, with its extension: ')\n",
    "\n",
    "\n",
    "    f1 = docx.Document(input_file)\n",
    "    f1_text = \"\"\n",
    "    counter = 0 # Used for the loop, to mention a specific paragraph each time.\n",
    "    for para in f1.paragraphs: # This loop appends every paragraph from f1 into a list. Later, it will be splitted into sentences and scrambled.\n",
    "        read_file = f1.paragraphs[counter].text\n",
    "        f1_text += read_file + \" \"\n",
    "        counter += 1\n",
    "    # print(f1_text)\n",
    "\n",
    "    return f1_text\n",
    "\n",
    "\n",
    "def import_output_docx_file(output_file=''):\n",
    "    \"\"\"\n",
    "    :param output_file: The file that will be writen in.\n",
    "    :return:\n",
    "    \"\"\"\n",
    "    import docx\n",
    "    if output_file == '':\n",
    "        output_file = input('Enter the output file name, with its extension: ')\n",
    "\n",
    "    try: # This block of try is for an issue when a docx file is empty; this statement tries to open the document, and when fails OVERRIDES a new file with the same name.\n",
    "        f2 = docx.Document(output_file)\n",
    "    except:\n",
    "        f2 = docx.Document()\n",
    "        f2.save(output_file)\n",
    "        # print('Previous file was corrupted or didn\\'t exist - new file was created.')\n",
    "\n",
    "    # list_check = ['I love pyton', 'I enjoy it a lot', 'I\\'m trying this annoying module.']\n",
    "    # f2.add_paragraph(list_check)\n",
    "    # f2.add_run('Test; I do love Python')\n",
    "    return f2 # When called inside another function, remember to save the file.\n",
    "    f2.save(output_file)\n"
   ],
   "metadata": {
    "collapsed": false
   }
  },
  {
   "cell_type": "code",
   "execution_count": 2,
   "outputs": [
    {
     "ename": "FileNotFoundError",
     "evalue": "[Errno 2] No such file or directory: ''",
     "output_type": "error",
     "traceback": [
      "\u001B[0;31m---------------------------------------------------------------------------\u001B[0m",
      "\u001B[0;31mPackageNotFoundError\u001B[0m                      Traceback (most recent call last)",
      "Input \u001B[0;32mIn [1]\u001B[0m, in \u001B[0;36mimport_output_docx_file\u001B[0;34m(output_file)\u001B[0m\n\u001B[1;32m     32\u001B[0m \u001B[38;5;28;01mtry\u001B[39;00m: \u001B[38;5;66;03m# This block of try is for an issue when a docx file is empty; this statement tries to open the document, and when fails OVERRIDES a new file with the same name.\u001B[39;00m\n\u001B[0;32m---> 33\u001B[0m     f2 \u001B[38;5;241m=\u001B[39m \u001B[43mdocx\u001B[49m\u001B[38;5;241;43m.\u001B[39;49m\u001B[43mDocument\u001B[49m\u001B[43m(\u001B[49m\u001B[43moutput_file\u001B[49m\u001B[43m)\u001B[49m\n\u001B[1;32m     34\u001B[0m \u001B[38;5;28;01mexcept\u001B[39;00m:\n",
      "File \u001B[0;32m/opt/anaconda3/lib/python3.9/site-packages/docx/api.py:25\u001B[0m, in \u001B[0;36mDocument\u001B[0;34m(docx)\u001B[0m\n\u001B[1;32m     24\u001B[0m docx \u001B[38;5;241m=\u001B[39m _default_docx_path() \u001B[38;5;28;01mif\u001B[39;00m docx \u001B[38;5;129;01mis\u001B[39;00m \u001B[38;5;28;01mNone\u001B[39;00m \u001B[38;5;28;01melse\u001B[39;00m docx\n\u001B[0;32m---> 25\u001B[0m document_part \u001B[38;5;241m=\u001B[39m \u001B[43mPackage\u001B[49m\u001B[38;5;241;43m.\u001B[39;49m\u001B[43mopen\u001B[49m\u001B[43m(\u001B[49m\u001B[43mdocx\u001B[49m\u001B[43m)\u001B[49m\u001B[38;5;241m.\u001B[39mmain_document_part\n\u001B[1;32m     26\u001B[0m \u001B[38;5;28;01mif\u001B[39;00m document_part\u001B[38;5;241m.\u001B[39mcontent_type \u001B[38;5;241m!=\u001B[39m CT\u001B[38;5;241m.\u001B[39mWML_DOCUMENT_MAIN:\n",
      "File \u001B[0;32m/opt/anaconda3/lib/python3.9/site-packages/docx/opc/package.py:128\u001B[0m, in \u001B[0;36mOpcPackage.open\u001B[0;34m(cls, pkg_file)\u001B[0m\n\u001B[1;32m    124\u001B[0m \u001B[38;5;124;03m\"\"\"\u001B[39;00m\n\u001B[1;32m    125\u001B[0m \u001B[38;5;124;03mReturn an |OpcPackage| instance loaded with the contents of\u001B[39;00m\n\u001B[1;32m    126\u001B[0m \u001B[38;5;124;03m*pkg_file*.\u001B[39;00m\n\u001B[1;32m    127\u001B[0m \u001B[38;5;124;03m\"\"\"\u001B[39;00m\n\u001B[0;32m--> 128\u001B[0m pkg_reader \u001B[38;5;241m=\u001B[39m \u001B[43mPackageReader\u001B[49m\u001B[38;5;241;43m.\u001B[39;49m\u001B[43mfrom_file\u001B[49m\u001B[43m(\u001B[49m\u001B[43mpkg_file\u001B[49m\u001B[43m)\u001B[49m\n\u001B[1;32m    129\u001B[0m package \u001B[38;5;241m=\u001B[39m \u001B[38;5;28mcls\u001B[39m()\n",
      "File \u001B[0;32m/opt/anaconda3/lib/python3.9/site-packages/docx/opc/pkgreader.py:32\u001B[0m, in \u001B[0;36mPackageReader.from_file\u001B[0;34m(pkg_file)\u001B[0m\n\u001B[1;32m     29\u001B[0m \u001B[38;5;124;03m\"\"\"\u001B[39;00m\n\u001B[1;32m     30\u001B[0m \u001B[38;5;124;03mReturn a |PackageReader| instance loaded with contents of *pkg_file*.\u001B[39;00m\n\u001B[1;32m     31\u001B[0m \u001B[38;5;124;03m\"\"\"\u001B[39;00m\n\u001B[0;32m---> 32\u001B[0m phys_reader \u001B[38;5;241m=\u001B[39m \u001B[43mPhysPkgReader\u001B[49m\u001B[43m(\u001B[49m\u001B[43mpkg_file\u001B[49m\u001B[43m)\u001B[49m\n\u001B[1;32m     33\u001B[0m content_types \u001B[38;5;241m=\u001B[39m _ContentTypeMap\u001B[38;5;241m.\u001B[39mfrom_xml(phys_reader\u001B[38;5;241m.\u001B[39mcontent_types_xml)\n",
      "File \u001B[0;32m/opt/anaconda3/lib/python3.9/site-packages/docx/opc/phys_pkg.py:30\u001B[0m, in \u001B[0;36mPhysPkgReader.__new__\u001B[0;34m(cls, pkg_file)\u001B[0m\n\u001B[1;32m     29\u001B[0m     \u001B[38;5;28;01melse\u001B[39;00m:\n\u001B[0;32m---> 30\u001B[0m         \u001B[38;5;28;01mraise\u001B[39;00m PackageNotFoundError(\n\u001B[1;32m     31\u001B[0m             \u001B[38;5;124m\"\u001B[39m\u001B[38;5;124mPackage not found at \u001B[39m\u001B[38;5;124m'\u001B[39m\u001B[38;5;132;01m%s\u001B[39;00m\u001B[38;5;124m'\u001B[39m\u001B[38;5;124m\"\u001B[39m \u001B[38;5;241m%\u001B[39m pkg_file\n\u001B[1;32m     32\u001B[0m         )\n\u001B[1;32m     33\u001B[0m \u001B[38;5;28;01melse\u001B[39;00m:  \u001B[38;5;66;03m# assume it's a stream and pass it to Zip reader to sort out\u001B[39;00m\n",
      "\u001B[0;31mPackageNotFoundError\u001B[0m: Package not found at ''",
      "\nDuring handling of the above exception, another exception occurred:\n",
      "\u001B[0;31mFileNotFoundError\u001B[0m                         Traceback (most recent call last)",
      "Input \u001B[0;32mIn [2]\u001B[0m, in \u001B[0;36m<cell line: 44>\u001B[0;34m()\u001B[0m\n\u001B[1;32m     41\u001B[0m     f2\u001B[38;5;241m.\u001B[39msave(output_file)\n\u001B[1;32m     42\u001B[0m     \u001B[38;5;66;03m# print(modified_sentences)\u001B[39;00m\n\u001B[0;32m---> 44\u001B[0m \u001B[43mshuffler\u001B[49m\u001B[43m(\u001B[49m\u001B[43m)\u001B[49m\n",
      "Input \u001B[0;32mIn [2]\u001B[0m, in \u001B[0;36mshuffler\u001B[0;34m(input_file, output_file)\u001B[0m\n\u001B[1;32m     19\u001B[0m     output_file \u001B[38;5;241m=\u001B[39m \u001B[38;5;28minput\u001B[39m(\u001B[38;5;124m'\u001B[39m\u001B[38;5;124mEnter the output file name, with its extension: \u001B[39m\u001B[38;5;124m'\u001B[39m)\n\u001B[1;32m     21\u001B[0m f1 \u001B[38;5;241m=\u001B[39m import_input_docx_file(input_file\u001B[38;5;241m=\u001B[39m\u001B[38;5;124m'\u001B[39m\u001B[38;5;124minputfile.docx\u001B[39m\u001B[38;5;124m'\u001B[39m) \u001B[38;5;66;03m# File name here is used for testing, remove later when implementing.\u001B[39;00m\n\u001B[0;32m---> 22\u001B[0m f2 \u001B[38;5;241m=\u001B[39m \u001B[43mimport_output_docx_file\u001B[49m\u001B[43m(\u001B[49m\u001B[43moutput_file\u001B[49m\u001B[43m)\u001B[49m \u001B[38;5;66;03m# File name here is used for testing, remove later when implementing.\u001B[39;00m\n\u001B[1;32m     23\u001B[0m modified_sentences \u001B[38;5;241m=\u001B[39m [] \u001B[38;5;66;03m# The sentences shuffled.\u001B[39;00m\n\u001B[1;32m     24\u001B[0m sentences \u001B[38;5;241m=\u001B[39m (f1\u001B[38;5;241m.\u001B[39msplit(\u001B[38;5;124m\"\u001B[39m\u001B[38;5;124m. \u001B[39m\u001B[38;5;124m\"\u001B[39m)) \u001B[38;5;66;03m# Splits wherever there's a dot == a new sentence.\u001B[39;00m\n",
      "Input \u001B[0;32mIn [1]\u001B[0m, in \u001B[0;36mimport_output_docx_file\u001B[0;34m(output_file)\u001B[0m\n\u001B[1;32m     34\u001B[0m \u001B[38;5;28;01mexcept\u001B[39;00m:\n\u001B[1;32m     35\u001B[0m     f2 \u001B[38;5;241m=\u001B[39m docx\u001B[38;5;241m.\u001B[39mDocument()\n\u001B[0;32m---> 36\u001B[0m     \u001B[43mf2\u001B[49m\u001B[38;5;241;43m.\u001B[39;49m\u001B[43msave\u001B[49m\u001B[43m(\u001B[49m\u001B[43moutput_file\u001B[49m\u001B[43m)\u001B[49m\n\u001B[1;32m     37\u001B[0m     \u001B[38;5;66;03m# print('Previous file was corrupted or didn\\'t exist - new file was created.')\u001B[39;00m\n\u001B[1;32m     38\u001B[0m \n\u001B[1;32m     39\u001B[0m \u001B[38;5;66;03m# list_check = ['I love pyton', 'I enjoy it a lot', 'I\\'m trying this annoying module.']\u001B[39;00m\n\u001B[1;32m     40\u001B[0m \u001B[38;5;66;03m# f2.add_paragraph(list_check)\u001B[39;00m\n\u001B[1;32m     41\u001B[0m \u001B[38;5;66;03m# f2.add_run('Test; I do love Python')\u001B[39;00m\n\u001B[1;32m     42\u001B[0m \u001B[38;5;28;01mreturn\u001B[39;00m f2 \u001B[38;5;66;03m# When called inside another function, remember to save the file.\u001B[39;00m\n",
      "File \u001B[0;32m/opt/anaconda3/lib/python3.9/site-packages/docx/document.py:135\u001B[0m, in \u001B[0;36mDocument.save\u001B[0;34m(self, path_or_stream)\u001B[0m\n\u001B[1;32m    130\u001B[0m \u001B[38;5;28;01mdef\u001B[39;00m \u001B[38;5;21msave\u001B[39m(\u001B[38;5;28mself\u001B[39m, path_or_stream):\n\u001B[1;32m    131\u001B[0m     \u001B[38;5;124;03m\"\"\"\u001B[39;00m\n\u001B[1;32m    132\u001B[0m \u001B[38;5;124;03m    Save this document to *path_or_stream*, which can be either a path to\u001B[39;00m\n\u001B[1;32m    133\u001B[0m \u001B[38;5;124;03m    a filesystem location (a string) or a file-like object.\u001B[39;00m\n\u001B[1;32m    134\u001B[0m \u001B[38;5;124;03m    \"\"\"\u001B[39;00m\n\u001B[0;32m--> 135\u001B[0m     \u001B[38;5;28;43mself\u001B[39;49m\u001B[38;5;241;43m.\u001B[39;49m\u001B[43m_part\u001B[49m\u001B[38;5;241;43m.\u001B[39;49m\u001B[43msave\u001B[49m\u001B[43m(\u001B[49m\u001B[43mpath_or_stream\u001B[49m\u001B[43m)\u001B[49m\n",
      "File \u001B[0;32m/opt/anaconda3/lib/python3.9/site-packages/docx/parts/document.py:111\u001B[0m, in \u001B[0;36mDocumentPart.save\u001B[0;34m(self, path_or_stream)\u001B[0m\n\u001B[1;32m    106\u001B[0m \u001B[38;5;28;01mdef\u001B[39;00m \u001B[38;5;21msave\u001B[39m(\u001B[38;5;28mself\u001B[39m, path_or_stream):\n\u001B[1;32m    107\u001B[0m     \u001B[38;5;124;03m\"\"\"\u001B[39;00m\n\u001B[1;32m    108\u001B[0m \u001B[38;5;124;03m    Save this document to *path_or_stream*, which can be either a path to\u001B[39;00m\n\u001B[1;32m    109\u001B[0m \u001B[38;5;124;03m    a filesystem location (a string) or a file-like object.\u001B[39;00m\n\u001B[1;32m    110\u001B[0m \u001B[38;5;124;03m    \"\"\"\u001B[39;00m\n\u001B[0;32m--> 111\u001B[0m     \u001B[38;5;28;43mself\u001B[39;49m\u001B[38;5;241;43m.\u001B[39;49m\u001B[43mpackage\u001B[49m\u001B[38;5;241;43m.\u001B[39;49m\u001B[43msave\u001B[49m\u001B[43m(\u001B[49m\u001B[43mpath_or_stream\u001B[49m\u001B[43m)\u001B[49m\n",
      "File \u001B[0;32m/opt/anaconda3/lib/python3.9/site-packages/docx/opc/package.py:172\u001B[0m, in \u001B[0;36mOpcPackage.save\u001B[0;34m(self, pkg_file)\u001B[0m\n\u001B[1;32m    170\u001B[0m \u001B[38;5;28;01mfor\u001B[39;00m part \u001B[38;5;129;01min\u001B[39;00m \u001B[38;5;28mself\u001B[39m\u001B[38;5;241m.\u001B[39mparts:\n\u001B[1;32m    171\u001B[0m     part\u001B[38;5;241m.\u001B[39mbefore_marshal()\n\u001B[0;32m--> 172\u001B[0m \u001B[43mPackageWriter\u001B[49m\u001B[38;5;241;43m.\u001B[39;49m\u001B[43mwrite\u001B[49m\u001B[43m(\u001B[49m\u001B[43mpkg_file\u001B[49m\u001B[43m,\u001B[49m\u001B[43m \u001B[49m\u001B[38;5;28;43mself\u001B[39;49m\u001B[38;5;241;43m.\u001B[39;49m\u001B[43mrels\u001B[49m\u001B[43m,\u001B[49m\u001B[43m \u001B[49m\u001B[38;5;28;43mself\u001B[39;49m\u001B[38;5;241;43m.\u001B[39;49m\u001B[43mparts\u001B[49m\u001B[43m)\u001B[49m\n",
      "File \u001B[0;32m/opt/anaconda3/lib/python3.9/site-packages/docx/opc/pkgwriter.py:32\u001B[0m, in \u001B[0;36mPackageWriter.write\u001B[0;34m(pkg_file, pkg_rels, parts)\u001B[0m\n\u001B[1;32m     25\u001B[0m \u001B[38;5;129m@staticmethod\u001B[39m\n\u001B[1;32m     26\u001B[0m \u001B[38;5;28;01mdef\u001B[39;00m \u001B[38;5;21mwrite\u001B[39m(pkg_file, pkg_rels, parts):\n\u001B[1;32m     27\u001B[0m     \u001B[38;5;124;03m\"\"\"\u001B[39;00m\n\u001B[1;32m     28\u001B[0m \u001B[38;5;124;03m    Write a physical package (.pptx file) to *pkg_file* containing\u001B[39;00m\n\u001B[1;32m     29\u001B[0m \u001B[38;5;124;03m    *pkg_rels* and *parts* and a content types stream based on the\u001B[39;00m\n\u001B[1;32m     30\u001B[0m \u001B[38;5;124;03m    content types of the parts.\u001B[39;00m\n\u001B[1;32m     31\u001B[0m \u001B[38;5;124;03m    \"\"\"\u001B[39;00m\n\u001B[0;32m---> 32\u001B[0m     phys_writer \u001B[38;5;241m=\u001B[39m \u001B[43mPhysPkgWriter\u001B[49m\u001B[43m(\u001B[49m\u001B[43mpkg_file\u001B[49m\u001B[43m)\u001B[49m\n\u001B[1;32m     33\u001B[0m     PackageWriter\u001B[38;5;241m.\u001B[39m_write_content_types_stream(phys_writer, parts)\n\u001B[1;32m     34\u001B[0m     PackageWriter\u001B[38;5;241m.\u001B[39m_write_pkg_rels(phys_writer, pkg_rels)\n",
      "File \u001B[0;32m/opt/anaconda3/lib/python3.9/site-packages/docx/opc/phys_pkg.py:141\u001B[0m, in \u001B[0;36m_ZipPkgWriter.__init__\u001B[0;34m(self, pkg_file)\u001B[0m\n\u001B[1;32m    139\u001B[0m \u001B[38;5;28;01mdef\u001B[39;00m \u001B[38;5;21m__init__\u001B[39m(\u001B[38;5;28mself\u001B[39m, pkg_file):\n\u001B[1;32m    140\u001B[0m     \u001B[38;5;28msuper\u001B[39m(_ZipPkgWriter, \u001B[38;5;28mself\u001B[39m)\u001B[38;5;241m.\u001B[39m\u001B[38;5;21m__init__\u001B[39m()\n\u001B[0;32m--> 141\u001B[0m     \u001B[38;5;28mself\u001B[39m\u001B[38;5;241m.\u001B[39m_zipf \u001B[38;5;241m=\u001B[39m \u001B[43mZipFile\u001B[49m\u001B[43m(\u001B[49m\u001B[43mpkg_file\u001B[49m\u001B[43m,\u001B[49m\u001B[43m \u001B[49m\u001B[38;5;124;43m'\u001B[39;49m\u001B[38;5;124;43mw\u001B[39;49m\u001B[38;5;124;43m'\u001B[39;49m\u001B[43m,\u001B[49m\u001B[43m \u001B[49m\u001B[43mcompression\u001B[49m\u001B[38;5;241;43m=\u001B[39;49m\u001B[43mZIP_DEFLATED\u001B[49m\u001B[43m)\u001B[49m\n",
      "File \u001B[0;32m/opt/anaconda3/lib/python3.9/zipfile.py:1248\u001B[0m, in \u001B[0;36mZipFile.__init__\u001B[0;34m(self, file, mode, compression, allowZip64, compresslevel, strict_timestamps)\u001B[0m\n\u001B[1;32m   1246\u001B[0m \u001B[38;5;28;01mwhile\u001B[39;00m \u001B[38;5;28;01mTrue\u001B[39;00m:\n\u001B[1;32m   1247\u001B[0m     \u001B[38;5;28;01mtry\u001B[39;00m:\n\u001B[0;32m-> 1248\u001B[0m         \u001B[38;5;28mself\u001B[39m\u001B[38;5;241m.\u001B[39mfp \u001B[38;5;241m=\u001B[39m \u001B[43mio\u001B[49m\u001B[38;5;241;43m.\u001B[39;49m\u001B[43mopen\u001B[49m\u001B[43m(\u001B[49m\u001B[43mfile\u001B[49m\u001B[43m,\u001B[49m\u001B[43m \u001B[49m\u001B[43mfilemode\u001B[49m\u001B[43m)\u001B[49m\n\u001B[1;32m   1249\u001B[0m     \u001B[38;5;28;01mexcept\u001B[39;00m \u001B[38;5;167;01mOSError\u001B[39;00m:\n\u001B[1;32m   1250\u001B[0m         \u001B[38;5;28;01mif\u001B[39;00m filemode \u001B[38;5;129;01min\u001B[39;00m modeDict:\n",
      "\u001B[0;31mFileNotFoundError\u001B[0m: [Errno 2] No such file or directory: ''"
     ]
    }
   ],
   "source": [
    "'''\n",
    "The program receives a document and cuts its sentences to pieces.\n",
    "'''\n",
    "\n",
    "\n",
    "def shuffler(input_file='',output_file=''):\n",
    "    \"\"\"\n",
    "    This function receives a file, currently a docx, using the import_docx_file function, and scrambles the sentences.\n",
    "    In the future, create a similar function that splits paragraphs, using the docx module.\n",
    "    :return:\n",
    "    \"\"\"\n",
    "    import random as rnd\n",
    "    # print('Hello and welcome to the sentence shuffler. \\n Please upload the file to the notebook. \\n')\n",
    "\n",
    "    if input_file == '':\n",
    "        input_file = input('Enter the file name, with its extension: ')\n",
    "\n",
    "    if output_file == '':\n",
    "        output_file = input('Enter the output file name, with its extension: ')\n",
    "\n",
    "    f1 = import_input_docx_file(input_file='inputfile.docx') # File name here is used for testing, remove later when implementing.\n",
    "    f2 = import_output_docx_file(output_file) # File name here is used for testing, remove later when implementing.\n",
    "    modified_sentences = [] # The sentences shuffled.\n",
    "    sentences = (f1.split(\". \")) # Splits wherever there's a dot == a new sentence.\n",
    "    num_of_shuffle = len(sentences)\n",
    "    for i in range(num_of_shuffle):\n",
    "        modified_sentences.append(None)\n",
    "\n",
    "    # print(modified_sentences)\n",
    "\n",
    "    all_words = '' # It is possible to enter new lines into a string, but not to a list. But since we still need to check if the item is inside of the modified list, we still need the list.\n",
    "\n",
    "    while None in modified_sentences:\n",
    "        for shuffle in sentences:\n",
    "            if shuffle not in modified_sentences:\n",
    "                modified_sentences[rnd.randint(0,num_of_shuffle-1)] = shuffle\n",
    "                all_words += \"\\n\" + shuffle\n",
    "\n",
    "\n",
    "    f2.add_paragraph(all_words)\n",
    "    f2.save(output_file)\n",
    "    # print(modified_sentences)\n",
    "\n",
    "shuffler()"
   ],
   "metadata": {
    "collapsed": false
   }
  }
 ],
 "metadata": {
  "kernelspec": {
   "display_name": "Python 3 (ipykernel)",
   "language": "python",
   "name": "python3"
  },
  "language_info": {
   "codemirror_mode": {
    "name": "ipython",
    "version": 3
   },
   "file_extension": ".py",
   "mimetype": "text/x-python",
   "name": "python",
   "nbconvert_exporter": "python",
   "pygments_lexer": "ipython3",
   "version": "3.9.10+"
  }
 },
 "nbformat": 4,
 "nbformat_minor": 2
}
